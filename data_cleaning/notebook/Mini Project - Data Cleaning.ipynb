{
 "cells": [
  {
   "cell_type": "markdown",
   "metadata": {},
   "source": [
    "# Mini Project - Data Cleaning"
   ]
  },
  {
   "cell_type": "markdown",
   "metadata": {},
   "source": [
    "I came acorss an interesting data set and it was a mini data cleaning challenge. The data set shows the common problems we see in real-life data, and the purpose of this challange is to list all the issues and clean the way towards a more structed DataFrame. Also worth to mentioned these are the possible questions we will come acorss in a Data Science technical interview!\n",
    "\n",
    "**Let's get this started!**"
   ]
  },
  {
   "cell_type": "code",
   "execution_count": 59,
   "metadata": {},
   "outputs": [],
   "source": [
    "# import library\n",
    "import numpy as np\n",
    "import pandas as pd"
   ]
  },
  {
   "cell_type": "code",
   "execution_count": 62,
   "metadata": {},
   "outputs": [
    {
     "data": {
      "text/html": [
       "<div>\n",
       "<style scoped>\n",
       "    .dataframe tbody tr th:only-of-type {\n",
       "        vertical-align: middle;\n",
       "    }\n",
       "\n",
       "    .dataframe tbody tr th {\n",
       "        vertical-align: top;\n",
       "    }\n",
       "\n",
       "    .dataframe thead th {\n",
       "        text-align: right;\n",
       "    }\n",
       "</style>\n",
       "<table border=\"1\" class=\"dataframe\">\n",
       "  <thead>\n",
       "    <tr style=\"text-align: right;\">\n",
       "      <th></th>\n",
       "      <th>Unnamed: 0</th>\n",
       "      <th>Sales_ID</th>\n",
       "      <th>Sales_Branch</th>\n",
       "      <th>Product_Description</th>\n",
       "      <th>Recent_Sales_Date</th>\n",
       "      <th>Customer_Count</th>\n",
       "    </tr>\n",
       "  </thead>\n",
       "  <tbody>\n",
       "    <tr>\n",
       "      <th>0</th>\n",
       "      <td>0</td>\n",
       "      <td>AU_1382578        !</td>\n",
       "      <td>NaN</td>\n",
       "      <td>The Fruit, a company that sells fruits from al...</td>\n",
       "      <td>2019/12/31 GMT+8 18:00</td>\n",
       "      <td>10</td>\n",
       "    </tr>\n",
       "    <tr>\n",
       "      <th>1</th>\n",
       "      <td>1</td>\n",
       "      <td>TW_8312566       !</td>\n",
       "      <td>NaN</td>\n",
       "      <td>The Fruit, a company that sells fruits from al...</td>\n",
       "      <td>2019/12/31 GMT+8 18:00</td>\n",
       "      <td>27</td>\n",
       "    </tr>\n",
       "    <tr>\n",
       "      <th>2</th>\n",
       "      <td>2</td>\n",
       "      <td>US_2289987       !</td>\n",
       "      <td>NaN</td>\n",
       "      <td>The Fruit, a company that sells fruits from al...</td>\n",
       "      <td>2019/12/29 GMT+8 18:00</td>\n",
       "      <td>12</td>\n",
       "    </tr>\n",
       "    <tr>\n",
       "      <th>3</th>\n",
       "      <td>3</td>\n",
       "      <td>UK_1382574       !</td>\n",
       "      <td>NaN</td>\n",
       "      <td>The Fruit, a company that sells fruits from al...</td>\n",
       "      <td>2019/12/15 GMT+8 05:00</td>\n",
       "      <td>1</td>\n",
       "    </tr>\n",
       "    <tr>\n",
       "      <th>4</th>\n",
       "      <td>4</td>\n",
       "      <td>TW_1382578       !</td>\n",
       "      <td>NaN</td>\n",
       "      <td>The Fruit, a company that sells fruits from al...</td>\n",
       "      <td>2019/12/29 GMT+8 05:00</td>\n",
       "      <td>5</td>\n",
       "    </tr>\n",
       "    <tr>\n",
       "      <th>5</th>\n",
       "      <td>5</td>\n",
       "      <td>AU_1335358       !</td>\n",
       "      <td>NaN</td>\n",
       "      <td>The Fruit, a company that sells fruits from al...</td>\n",
       "      <td>2019/12/31 GMT+8 05:00</td>\n",
       "      <td>10</td>\n",
       "    </tr>\n",
       "    <tr>\n",
       "      <th>6</th>\n",
       "      <td>6</td>\n",
       "      <td>TW_6662597       !</td>\n",
       "      <td>NaN</td>\n",
       "      <td>The Fruit, a company that sells fruits from al...</td>\n",
       "      <td>2019/12/31 GMT+8 15:00</td>\n",
       "      <td>1</td>\n",
       "    </tr>\n",
       "    <tr>\n",
       "      <th>7</th>\n",
       "      <td>7</td>\n",
       "      <td>TW_3352571       !</td>\n",
       "      <td>NaN</td>\n",
       "      <td>The Fruit, a company that sells fruits from al...</td>\n",
       "      <td>2019/12/27 GMT+8 18:00</td>\n",
       "      <td>3</td>\n",
       "    </tr>\n",
       "    <tr>\n",
       "      <th>8</th>\n",
       "      <td>8</td>\n",
       "      <td>US_7683478       !</td>\n",
       "      <td>NaN</td>\n",
       "      <td>The Fruit, a company that sells fruits from al...</td>\n",
       "      <td>2019/12/31 GMT+8 18:00</td>\n",
       "      <td>17</td>\n",
       "    </tr>\n",
       "    <tr>\n",
       "      <th>9</th>\n",
       "      <td>9</td>\n",
       "      <td>US_4523771       !</td>\n",
       "      <td>NaN</td>\n",
       "      <td>The Fruit, a company that sells fruits from al...</td>\n",
       "      <td>2019/12/30 GMT+8 18:00</td>\n",
       "      <td>51</td>\n",
       "    </tr>\n",
       "  </tbody>\n",
       "</table>\n",
       "</div>"
      ],
      "text/plain": [
       "   Unnamed: 0             Sales_ID  Sales_Branch  \\\n",
       "0           0  AU_1382578        !           NaN   \n",
       "1           1   TW_8312566       !           NaN   \n",
       "2           2   US_2289987       !           NaN   \n",
       "3           3   UK_1382574       !           NaN   \n",
       "4           4   TW_1382578       !           NaN   \n",
       "5           5   AU_1335358       !           NaN   \n",
       "6           6   TW_6662597       !           NaN   \n",
       "7           7   TW_3352571       !           NaN   \n",
       "8           8   US_7683478       !           NaN   \n",
       "9           9   US_4523771       !           NaN   \n",
       "\n",
       "                                 Product_Description       Recent_Sales_Date  \\\n",
       "0  The Fruit, a company that sells fruits from al...  2019/12/31 GMT+8 18:00   \n",
       "1  The Fruit, a company that sells fruits from al...  2019/12/31 GMT+8 18:00   \n",
       "2  The Fruit, a company that sells fruits from al...  2019/12/29 GMT+8 18:00   \n",
       "3  The Fruit, a company that sells fruits from al...  2019/12/15 GMT+8 05:00   \n",
       "4  The Fruit, a company that sells fruits from al...  2019/12/29 GMT+8 05:00   \n",
       "5  The Fruit, a company that sells fruits from al...  2019/12/31 GMT+8 05:00   \n",
       "6  The Fruit, a company that sells fruits from al...  2019/12/31 GMT+8 15:00   \n",
       "7  The Fruit, a company that sells fruits from al...  2019/12/27 GMT+8 18:00   \n",
       "8  The Fruit, a company that sells fruits from al...  2019/12/31 GMT+8 18:00   \n",
       "9  The Fruit, a company that sells fruits from al...  2019/12/30 GMT+8 18:00   \n",
       "\n",
       "   Customer_Count  \n",
       "0              10  \n",
       "1              27  \n",
       "2              12  \n",
       "3               1  \n",
       "4               5  \n",
       "5              10  \n",
       "6               1  \n",
       "7               3  \n",
       "8              17  \n",
       "9              51  "
      ]
     },
     "execution_count": 62,
     "metadata": {},
     "output_type": "execute_result"
    }
   ],
   "source": [
    "# import dataset\n",
    "df = pd.read_csv('/Users/queeniehu/anaconda3/Training/Projects/data_cleaning/data/TheFruit_sales.csv')\n",
    "df"
   ]
  },
  {
   "cell_type": "code",
   "execution_count": 42,
   "metadata": {},
   "outputs": [
    {
     "data": {
      "text/plain": [
       "(10, 6)"
      ]
     },
     "execution_count": 42,
     "metadata": {},
     "output_type": "execute_result"
    }
   ],
   "source": [
    "df.shape"
   ]
  },
  {
   "cell_type": "code",
   "execution_count": 43,
   "metadata": {},
   "outputs": [
    {
     "name": "stdout",
     "output_type": "stream",
     "text": [
      "<class 'pandas.core.frame.DataFrame'>\n",
      "RangeIndex: 10 entries, 0 to 9\n",
      "Data columns (total 6 columns):\n",
      " #   Column               Non-Null Count  Dtype  \n",
      "---  ------               --------------  -----  \n",
      " 0   Unnamed: 0           10 non-null     int64  \n",
      " 1   Sales_ID             10 non-null     object \n",
      " 2   Sales_Branch         0 non-null      float64\n",
      " 3   Product_Description  10 non-null     object \n",
      " 4   Recent_Sales_Date    10 non-null     object \n",
      " 5   Customer_Count       10 non-null     int64  \n",
      "dtypes: float64(1), int64(2), object(3)\n",
      "memory usage: 608.0+ bytes\n"
     ]
    }
   ],
   "source": [
    "# check DataFrame\n",
    "df.info()"
   ]
  },
  {
   "cell_type": "code",
   "execution_count": 44,
   "metadata": {},
   "outputs": [
    {
     "data": {
      "text/plain": [
       "'AU_1382578        !'"
      ]
     },
     "execution_count": 44,
     "metadata": {},
     "output_type": "execute_result"
    }
   ],
   "source": [
    "# lookup\n",
    "df['Sales_ID'][0]"
   ]
  },
  {
   "cell_type": "code",
   "execution_count": 45,
   "metadata": {},
   "outputs": [
    {
     "data": {
      "text/plain": [
       "'The Fruit, a company that sells fruits from all over the world, has branches in Australia, the United Kingdom, the United States, and Taiwan. Product: Apple Mango Banana Watermelon Orange Blueberry Banana Watermelon Kiwifruit'"
      ]
     },
     "execution_count": 45,
     "metadata": {},
     "output_type": "execute_result"
    }
   ],
   "source": [
    "df['Product_Description'][0]"
   ]
  },
  {
   "cell_type": "code",
   "execution_count": 46,
   "metadata": {},
   "outputs": [
    {
     "data": {
      "text/plain": [
       "'The Fruit, a company that sells fruits from all over the world, has branches in Australia, the United Kingdom, the United States, and Taiwan. Product: Orange Pear Mango Papaya Peach Persimmon Lychee Guava'"
      ]
     },
     "execution_count": 46,
     "metadata": {},
     "output_type": "execute_result"
    }
   ],
   "source": [
    "df['Product_Description'][1]"
   ]
  },
  {
   "cell_type": "code",
   "execution_count": 47,
   "metadata": {},
   "outputs": [
    {
     "data": {
      "text/plain": [
       "'2019/12/31 GMT+8 18:00'"
      ]
     },
     "execution_count": 47,
     "metadata": {},
     "output_type": "execute_result"
    }
   ],
   "source": [
    "df['Recent_Sales_Date'][0]"
   ]
  },
  {
   "cell_type": "markdown",
   "metadata": {},
   "source": [
    "## What can I observe in this dataset?"
   ]
  },
  {
   "cell_type": "markdown",
   "metadata": {},
   "source": [
    "1. Remove first column and reset index\n",
    "2. Sales_ID: There is a redundant space and random exclamation mark in each entry\n",
    "3. Sales_Branch: There is no entry in this column - missing data?\n",
    "\n",
    "    Is it possible the Sales_Branch information shifted to Sales_ID?\n",
    "    \n",
    "\n",
    "4. Product_Descirption: Repetitive and unnecessary words, the descirption also included a list of product\n",
    "5. Could add \"Product\" column to list the products - categorical data\n",
    "6. Recent_Sales_Date: it contains both date and time, can separate them to make it looks clearer\n"
   ]
  },
  {
   "cell_type": "markdown",
   "metadata": {},
   "source": [
    "### Step1: Drop the unwanted column"
   ]
  },
  {
   "cell_type": "code",
   "execution_count": 61,
   "metadata": {},
   "outputs": [
    {
     "data": {
      "text/html": [
       "<div>\n",
       "<style scoped>\n",
       "    .dataframe tbody tr th:only-of-type {\n",
       "        vertical-align: middle;\n",
       "    }\n",
       "\n",
       "    .dataframe tbody tr th {\n",
       "        vertical-align: top;\n",
       "    }\n",
       "\n",
       "    .dataframe thead th {\n",
       "        text-align: right;\n",
       "    }\n",
       "</style>\n",
       "<table border=\"1\" class=\"dataframe\">\n",
       "  <thead>\n",
       "    <tr style=\"text-align: right;\">\n",
       "      <th></th>\n",
       "      <th>Sales_ID</th>\n",
       "      <th>Sales_Branch</th>\n",
       "      <th>Product_Description</th>\n",
       "      <th>Recent_Sales_Date</th>\n",
       "      <th>Customer_Count</th>\n",
       "    </tr>\n",
       "  </thead>\n",
       "  <tbody>\n",
       "    <tr>\n",
       "      <th>0</th>\n",
       "      <td>AU_1382578        !</td>\n",
       "      <td>NaN</td>\n",
       "      <td>The Fruit, a company that sells fruits from al...</td>\n",
       "      <td>2019/12/31 GMT+8 18:00</td>\n",
       "      <td>10</td>\n",
       "    </tr>\n",
       "    <tr>\n",
       "      <th>1</th>\n",
       "      <td>TW_8312566       !</td>\n",
       "      <td>NaN</td>\n",
       "      <td>The Fruit, a company that sells fruits from al...</td>\n",
       "      <td>2019/12/31 GMT+8 18:00</td>\n",
       "      <td>27</td>\n",
       "    </tr>\n",
       "    <tr>\n",
       "      <th>2</th>\n",
       "      <td>US_2289987       !</td>\n",
       "      <td>NaN</td>\n",
       "      <td>The Fruit, a company that sells fruits from al...</td>\n",
       "      <td>2019/12/29 GMT+8 18:00</td>\n",
       "      <td>12</td>\n",
       "    </tr>\n",
       "    <tr>\n",
       "      <th>3</th>\n",
       "      <td>UK_1382574       !</td>\n",
       "      <td>NaN</td>\n",
       "      <td>The Fruit, a company that sells fruits from al...</td>\n",
       "      <td>2019/12/15 GMT+8 05:00</td>\n",
       "      <td>1</td>\n",
       "    </tr>\n",
       "    <tr>\n",
       "      <th>4</th>\n",
       "      <td>TW_1382578       !</td>\n",
       "      <td>NaN</td>\n",
       "      <td>The Fruit, a company that sells fruits from al...</td>\n",
       "      <td>2019/12/29 GMT+8 05:00</td>\n",
       "      <td>5</td>\n",
       "    </tr>\n",
       "    <tr>\n",
       "      <th>5</th>\n",
       "      <td>AU_1335358       !</td>\n",
       "      <td>NaN</td>\n",
       "      <td>The Fruit, a company that sells fruits from al...</td>\n",
       "      <td>2019/12/31 GMT+8 05:00</td>\n",
       "      <td>10</td>\n",
       "    </tr>\n",
       "    <tr>\n",
       "      <th>6</th>\n",
       "      <td>TW_6662597       !</td>\n",
       "      <td>NaN</td>\n",
       "      <td>The Fruit, a company that sells fruits from al...</td>\n",
       "      <td>2019/12/31 GMT+8 15:00</td>\n",
       "      <td>1</td>\n",
       "    </tr>\n",
       "    <tr>\n",
       "      <th>7</th>\n",
       "      <td>TW_3352571       !</td>\n",
       "      <td>NaN</td>\n",
       "      <td>The Fruit, a company that sells fruits from al...</td>\n",
       "      <td>2019/12/27 GMT+8 18:00</td>\n",
       "      <td>3</td>\n",
       "    </tr>\n",
       "    <tr>\n",
       "      <th>8</th>\n",
       "      <td>US_7683478       !</td>\n",
       "      <td>NaN</td>\n",
       "      <td>The Fruit, a company that sells fruits from al...</td>\n",
       "      <td>2019/12/31 GMT+8 18:00</td>\n",
       "      <td>17</td>\n",
       "    </tr>\n",
       "    <tr>\n",
       "      <th>9</th>\n",
       "      <td>US_4523771       !</td>\n",
       "      <td>NaN</td>\n",
       "      <td>The Fruit, a company that sells fruits from al...</td>\n",
       "      <td>2019/12/30 GMT+8 18:00</td>\n",
       "      <td>51</td>\n",
       "    </tr>\n",
       "  </tbody>\n",
       "</table>\n",
       "</div>"
      ],
      "text/plain": [
       "              Sales_ID  Sales_Branch  \\\n",
       "0  AU_1382578        !           NaN   \n",
       "1   TW_8312566       !           NaN   \n",
       "2   US_2289987       !           NaN   \n",
       "3   UK_1382574       !           NaN   \n",
       "4   TW_1382578       !           NaN   \n",
       "5   AU_1335358       !           NaN   \n",
       "6   TW_6662597       !           NaN   \n",
       "7   TW_3352571       !           NaN   \n",
       "8   US_7683478       !           NaN   \n",
       "9   US_4523771       !           NaN   \n",
       "\n",
       "                                 Product_Description       Recent_Sales_Date  \\\n",
       "0  The Fruit, a company that sells fruits from al...  2019/12/31 GMT+8 18:00   \n",
       "1  The Fruit, a company that sells fruits from al...  2019/12/31 GMT+8 18:00   \n",
       "2  The Fruit, a company that sells fruits from al...  2019/12/29 GMT+8 18:00   \n",
       "3  The Fruit, a company that sells fruits from al...  2019/12/15 GMT+8 05:00   \n",
       "4  The Fruit, a company that sells fruits from al...  2019/12/29 GMT+8 05:00   \n",
       "5  The Fruit, a company that sells fruits from al...  2019/12/31 GMT+8 05:00   \n",
       "6  The Fruit, a company that sells fruits from al...  2019/12/31 GMT+8 15:00   \n",
       "7  The Fruit, a company that sells fruits from al...  2019/12/27 GMT+8 18:00   \n",
       "8  The Fruit, a company that sells fruits from al...  2019/12/31 GMT+8 18:00   \n",
       "9  The Fruit, a company that sells fruits from al...  2019/12/30 GMT+8 18:00   \n",
       "\n",
       "   Customer_Count  \n",
       "0              10  \n",
       "1              27  \n",
       "2              12  \n",
       "3               1  \n",
       "4               5  \n",
       "5              10  \n",
       "6               1  \n",
       "7               3  \n",
       "8              17  \n",
       "9              51  "
      ]
     },
     "execution_count": 61,
     "metadata": {},
     "output_type": "execute_result"
    }
   ],
   "source": [
    "df2 = df.drop(columns=['Unnamed: 0'])\n",
    "df2"
   ]
  },
  {
   "cell_type": "markdown",
   "metadata": {},
   "source": [
    "### Step2: Slice and remove \" \" and \"!\" in Sales_ID"
   ]
  },
  {
   "cell_type": "code",
   "execution_count": null,
   "metadata": {},
   "outputs": [],
   "source": [
    "# This can be done using Pandas rstrip()"
   ]
  }
 ],
 "metadata": {
  "kernelspec": {
   "display_name": "Python 3",
   "language": "python",
   "name": "python3"
  },
  "language_info": {
   "codemirror_mode": {
    "name": "ipython",
    "version": 3
   },
   "file_extension": ".py",
   "mimetype": "text/x-python",
   "name": "python",
   "nbconvert_exporter": "python",
   "pygments_lexer": "ipython3",
   "version": "3.8.1"
  }
 },
 "nbformat": 4,
 "nbformat_minor": 4
}
